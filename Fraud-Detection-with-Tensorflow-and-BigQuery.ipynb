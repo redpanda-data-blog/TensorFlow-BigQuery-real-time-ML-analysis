{
 "cells": [
  {
   "cell_type": "markdown",
   "id": "6752295a",
   "metadata": {},
   "source": [
    "# Load Dependencies"
   ]
  },
  {
   "cell_type": "code",
   "execution_count": 1,
   "id": "a4c934c5",
   "metadata": {},
   "outputs": [
    {
     "name": "stderr",
     "output_type": "stream",
     "text": [
      "2023-07-19 21:54:52.993333: I tensorflow/core/platform/cpu_feature_guard.cc:182] This TensorFlow binary is optimized to use available CPU instructions in performance-critical operations.\n",
      "To enable the following instructions: AVX2 FMA, in other operations, rebuild TensorFlow with the appropriate compiler flags.\n"
     ]
    }
   ],
   "source": [
    "# load dependencies\n",
    "from google.cloud import bigquery\n",
    "from google.oauth2 import service_account\n",
    "\n",
    "import pickle\n",
    "import numpy as np\n",
    "import pandas as pd\n",
    "from numpy import asarray\n",
    "from numpy import argmax\n",
    "\n",
    "import imblearn\n",
    "from imblearn.over_sampling import SMOTE\n",
    "\n",
    "import matplotlib.pyplot as plt\n",
    "from sklearn.model_selection import train_test_split\n",
    "from sklearn.preprocessing import StandardScaler\n",
    "\n",
    "import tensorflow as tf\n",
    "from tensorflow import keras\n",
    "from tensorflow.keras import Sequential\n",
    "from tensorflow.keras.layers import Flatten, Dense, Dropout, BatchNormalization\n",
    "from tensorflow.keras.layers import Conv1D, MaxPool1D\n",
    "from tensorflow.keras.optimizers import Adam"
   ]
  },
  {
   "cell_type": "code",
   "execution_count": 2,
   "id": "5015d900",
   "metadata": {},
   "outputs": [],
   "source": [
    "# define bigquery credentials\n",
    "credentials = service_account.Credentials.from_service_account_file('path-to/gcp-redpandaq-admin.json')\n",
    "project_id = 'redpandaq'\n",
    "\n",
    "# initiate bigquery client\n",
    "client = bigquery.Client(credentials= credentials,project=project_id)"
   ]
  },
  {
   "cell_type": "markdown",
   "id": "fcb8289c",
   "metadata": {},
   "source": [
    "# Load Dataset"
   ]
  },
  {
   "cell_type": "code",
   "execution_count": 3,
   "id": "d5dad7df",
   "metadata": {},
   "outputs": [],
   "source": [
    "# query data from Bigquery\n",
    "query_job = client.query(\"\"\"SELECT *\n",
    "                            FROM fraud_detection.fraud_detection_train\"\"\")\n",
    "\n",
    "results = query_job.result() "
   ]
  },
  {
   "cell_type": "code",
   "execution_count": 4,
   "id": "fe8ea1d6",
   "metadata": {},
   "outputs": [
    {
     "data": {
      "text/html": [
       "<div>\n",
       "<style scoped>\n",
       "    .dataframe tbody tr th:only-of-type {\n",
       "        vertical-align: middle;\n",
       "    }\n",
       "\n",
       "    .dataframe tbody tr th {\n",
       "        vertical-align: top;\n",
       "    }\n",
       "\n",
       "    .dataframe thead th {\n",
       "        text-align: right;\n",
       "    }\n",
       "</style>\n",
       "<table border=\"1\" class=\"dataframe\">\n",
       "  <thead>\n",
       "    <tr style=\"text-align: right;\">\n",
       "      <th></th>\n",
       "      <th>Time</th>\n",
       "      <th>V1</th>\n",
       "      <th>V2</th>\n",
       "      <th>V3</th>\n",
       "      <th>V4</th>\n",
       "      <th>V5</th>\n",
       "      <th>V6</th>\n",
       "      <th>V7</th>\n",
       "      <th>V8</th>\n",
       "      <th>V9</th>\n",
       "      <th>...</th>\n",
       "      <th>V21</th>\n",
       "      <th>V22</th>\n",
       "      <th>V23</th>\n",
       "      <th>V24</th>\n",
       "      <th>V25</th>\n",
       "      <th>V26</th>\n",
       "      <th>V27</th>\n",
       "      <th>V28</th>\n",
       "      <th>Amount</th>\n",
       "      <th>Class</th>\n",
       "    </tr>\n",
       "  </thead>\n",
       "  <tbody>\n",
       "    <tr>\n",
       "      <th>0</th>\n",
       "      <td>2827.0</td>\n",
       "      <td>-0.706598</td>\n",
       "      <td>0.974523</td>\n",
       "      <td>2.848002</td>\n",
       "      <td>1.624375</td>\n",
       "      <td>-0.247990</td>\n",
       "      <td>-0.084309</td>\n",
       "      <td>0.279253</td>\n",
       "      <td>0.190700</td>\n",
       "      <td>-0.511506</td>\n",
       "      <td>...</td>\n",
       "      <td>0.043665</td>\n",
       "      <td>0.206504</td>\n",
       "      <td>-0.097601</td>\n",
       "      <td>0.700411</td>\n",
       "      <td>-0.255074</td>\n",
       "      <td>-0.268562</td>\n",
       "      <td>0.131085</td>\n",
       "      <td>0.144414</td>\n",
       "      <td>0.0</td>\n",
       "      <td>0</td>\n",
       "    </tr>\n",
       "    <tr>\n",
       "      <th>1</th>\n",
       "      <td>4628.0</td>\n",
       "      <td>-0.839150</td>\n",
       "      <td>-0.058305</td>\n",
       "      <td>0.976245</td>\n",
       "      <td>0.679075</td>\n",
       "      <td>1.633833</td>\n",
       "      <td>-0.349848</td>\n",
       "      <td>-0.139845</td>\n",
       "      <td>0.058743</td>\n",
       "      <td>0.687350</td>\n",
       "      <td>...</td>\n",
       "      <td>-0.059531</td>\n",
       "      <td>-0.088113</td>\n",
       "      <td>-0.202860</td>\n",
       "      <td>-0.841774</td>\n",
       "      <td>0.029158</td>\n",
       "      <td>0.654090</td>\n",
       "      <td>0.019055</td>\n",
       "      <td>0.111575</td>\n",
       "      <td>0.0</td>\n",
       "      <td>0</td>\n",
       "    </tr>\n",
       "    <tr>\n",
       "      <th>2</th>\n",
       "      <td>9435.0</td>\n",
       "      <td>1.109195</td>\n",
       "      <td>0.281324</td>\n",
       "      <td>1.545027</td>\n",
       "      <td>2.725212</td>\n",
       "      <td>-0.542445</td>\n",
       "      <td>0.700936</td>\n",
       "      <td>-0.789461</td>\n",
       "      <td>0.276965</td>\n",
       "      <td>1.222948</td>\n",
       "      <td>...</td>\n",
       "      <td>-0.211894</td>\n",
       "      <td>-0.263569</td>\n",
       "      <td>0.009915</td>\n",
       "      <td>-0.067964</td>\n",
       "      <td>0.273979</td>\n",
       "      <td>-0.077881</td>\n",
       "      <td>0.009168</td>\n",
       "      <td>0.014901</td>\n",
       "      <td>0.0</td>\n",
       "      <td>0</td>\n",
       "    </tr>\n",
       "    <tr>\n",
       "      <th>3</th>\n",
       "      <td>5989.0</td>\n",
       "      <td>-0.441051</td>\n",
       "      <td>1.141001</td>\n",
       "      <td>2.901674</td>\n",
       "      <td>3.080502</td>\n",
       "      <td>-0.229397</td>\n",
       "      <td>0.930292</td>\n",
       "      <td>-0.232623</td>\n",
       "      <td>0.257068</td>\n",
       "      <td>0.599404</td>\n",
       "      <td>...</td>\n",
       "      <td>-0.215927</td>\n",
       "      <td>-0.234396</td>\n",
       "      <td>-0.276878</td>\n",
       "      <td>-0.211537</td>\n",
       "      <td>0.017965</td>\n",
       "      <td>0.237438</td>\n",
       "      <td>0.099152</td>\n",
       "      <td>0.086541</td>\n",
       "      <td>0.0</td>\n",
       "      <td>0</td>\n",
       "    </tr>\n",
       "    <tr>\n",
       "      <th>4</th>\n",
       "      <td>2828.0</td>\n",
       "      <td>1.181697</td>\n",
       "      <td>-0.007908</td>\n",
       "      <td>-0.066845</td>\n",
       "      <td>1.532223</td>\n",
       "      <td>1.728832</td>\n",
       "      <td>4.409885</td>\n",
       "      <td>-1.138816</td>\n",
       "      <td>1.164645</td>\n",
       "      <td>-0.020578</td>\n",
       "      <td>...</td>\n",
       "      <td>-0.139920</td>\n",
       "      <td>-0.399563</td>\n",
       "      <td>0.010200</td>\n",
       "      <td>0.992235</td>\n",
       "      <td>0.457015</td>\n",
       "      <td>-0.027924</td>\n",
       "      <td>0.045273</td>\n",
       "      <td>0.028868</td>\n",
       "      <td>0.0</td>\n",
       "      <td>0</td>\n",
       "    </tr>\n",
       "  </tbody>\n",
       "</table>\n",
       "<p>5 rows × 31 columns</p>\n",
       "</div>"
      ],
      "text/plain": [
       "     Time        V1        V2        V3        V4        V5        V6  \\\n",
       "0  2827.0 -0.706598  0.974523  2.848002  1.624375 -0.247990 -0.084309   \n",
       "1  4628.0 -0.839150 -0.058305  0.976245  0.679075  1.633833 -0.349848   \n",
       "2  9435.0  1.109195  0.281324  1.545027  2.725212 -0.542445  0.700936   \n",
       "3  5989.0 -0.441051  1.141001  2.901674  3.080502 -0.229397  0.930292   \n",
       "4  2828.0  1.181697 -0.007908 -0.066845  1.532223  1.728832  4.409885   \n",
       "\n",
       "         V7        V8        V9  ...       V21       V22       V23       V24  \\\n",
       "0  0.279253  0.190700 -0.511506  ...  0.043665  0.206504 -0.097601  0.700411   \n",
       "1 -0.139845  0.058743  0.687350  ... -0.059531 -0.088113 -0.202860 -0.841774   \n",
       "2 -0.789461  0.276965  1.222948  ... -0.211894 -0.263569  0.009915 -0.067964   \n",
       "3 -0.232623  0.257068  0.599404  ... -0.215927 -0.234396 -0.276878 -0.211537   \n",
       "4 -1.138816  1.164645 -0.020578  ... -0.139920 -0.399563  0.010200  0.992235   \n",
       "\n",
       "        V25       V26       V27       V28  Amount  Class  \n",
       "0 -0.255074 -0.268562  0.131085  0.144414     0.0      0  \n",
       "1  0.029158  0.654090  0.019055  0.111575     0.0      0  \n",
       "2  0.273979 -0.077881  0.009168  0.014901     0.0      0  \n",
       "3  0.017965  0.237438  0.099152  0.086541     0.0      0  \n",
       "4  0.457015 -0.027924  0.045273  0.028868     0.0      0  \n",
       "\n",
       "[5 rows x 31 columns]"
      ]
     },
     "execution_count": 4,
     "metadata": {},
     "output_type": "execute_result"
    }
   ],
   "source": [
    "# convert to dataframe\n",
    "data = results.to_dataframe()\n",
    "data.head()"
   ]
  },
  {
   "cell_type": "markdown",
   "id": "f116e4b7",
   "metadata": {},
   "source": [
    "# Exploratory Data Analysis"
   ]
  },
  {
   "cell_type": "code",
   "execution_count": 5,
   "id": "fa49ad4c",
   "metadata": {},
   "outputs": [
    {
     "data": {
      "text/plain": [
       "Time      0\n",
       "V1        0\n",
       "V2        0\n",
       "V3        0\n",
       "V4        0\n",
       "V5        0\n",
       "V6        0\n",
       "V7        0\n",
       "V8        0\n",
       "V9        0\n",
       "V10       0\n",
       "V11       0\n",
       "V12       0\n",
       "V13       0\n",
       "V14       0\n",
       "V15       0\n",
       "V16       0\n",
       "V17       0\n",
       "V18       0\n",
       "V19       0\n",
       "V20       0\n",
       "V21       0\n",
       "V22       0\n",
       "V23       0\n",
       "V24       0\n",
       "V25       0\n",
       "V26       0\n",
       "V27       0\n",
       "V28       0\n",
       "Amount    0\n",
       "Class     0\n",
       "dtype: int64"
      ]
     },
     "execution_count": 5,
     "metadata": {},
     "output_type": "execute_result"
    }
   ],
   "source": [
    "# checking null values\n",
    "data.isnull().sum()"
   ]
  },
  {
   "cell_type": "code",
   "execution_count": 6,
   "id": "190bd925",
   "metadata": {},
   "outputs": [
    {
     "name": "stdout",
     "output_type": "stream",
     "text": [
      "<class 'pandas.core.frame.DataFrame'>\n",
      "RangeIndex: 15400 entries, 0 to 15399\n",
      "Data columns (total 31 columns):\n",
      " #   Column  Non-Null Count  Dtype  \n",
      "---  ------  --------------  -----  \n",
      " 0   Time    15400 non-null  float64\n",
      " 1   V1      15400 non-null  float64\n",
      " 2   V2      15400 non-null  float64\n",
      " 3   V3      15400 non-null  float64\n",
      " 4   V4      15400 non-null  float64\n",
      " 5   V5      15400 non-null  float64\n",
      " 6   V6      15400 non-null  float64\n",
      " 7   V7      15400 non-null  float64\n",
      " 8   V8      15400 non-null  float64\n",
      " 9   V9      15400 non-null  float64\n",
      " 10  V10     15400 non-null  float64\n",
      " 11  V11     15400 non-null  float64\n",
      " 12  V12     15400 non-null  float64\n",
      " 13  V13     15400 non-null  float64\n",
      " 14  V14     15400 non-null  float64\n",
      " 15  V15     15400 non-null  float64\n",
      " 16  V16     15400 non-null  float64\n",
      " 17  V17     15400 non-null  float64\n",
      " 18  V18     15400 non-null  float64\n",
      " 19  V19     15400 non-null  float64\n",
      " 20  V20     15400 non-null  float64\n",
      " 21  V21     15400 non-null  float64\n",
      " 22  V22     15400 non-null  float64\n",
      " 23  V23     15400 non-null  float64\n",
      " 24  V24     15400 non-null  float64\n",
      " 25  V25     15400 non-null  float64\n",
      " 26  V26     15400 non-null  float64\n",
      " 27  V27     15400 non-null  float64\n",
      " 28  V28     15400 non-null  float64\n",
      " 29  Amount  15400 non-null  float64\n",
      " 30  Class   15400 non-null  Int64  \n",
      "dtypes: Int64(1), float64(30)\n",
      "memory usage: 3.7 MB\n"
     ]
    }
   ],
   "source": [
    "# check dataframe information\n",
    "data.info()"
   ]
  },
  {
   "cell_type": "code",
   "execution_count": 7,
   "id": "b0265b87",
   "metadata": {},
   "outputs": [
    {
     "data": {
      "text/plain": [
       "0    15000\n",
       "1      400\n",
       "Name: Class, dtype: Int64"
      ]
     },
     "execution_count": 7,
     "metadata": {},
     "output_type": "execute_result"
    }
   ],
   "source": [
    "# check class count \n",
    "data['Class'].value_counts()"
   ]
  },
  {
   "cell_type": "code",
   "execution_count": 8,
   "id": "01502cbe",
   "metadata": {},
   "outputs": [
    {
     "name": "stdout",
     "output_type": "stream",
     "text": [
      "<class 'pandas.core.frame.DataFrame'>\n",
      "RangeIndex: 15400 entries, 0 to 15399\n",
      "Data columns (total 31 columns):\n",
      " #   Column  Non-Null Count  Dtype  \n",
      "---  ------  --------------  -----  \n",
      " 0   Time    15400 non-null  float64\n",
      " 1   V1      15400 non-null  float64\n",
      " 2   V2      15400 non-null  float64\n",
      " 3   V3      15400 non-null  float64\n",
      " 4   V4      15400 non-null  float64\n",
      " 5   V5      15400 non-null  float64\n",
      " 6   V6      15400 non-null  float64\n",
      " 7   V7      15400 non-null  float64\n",
      " 8   V8      15400 non-null  float64\n",
      " 9   V9      15400 non-null  float64\n",
      " 10  V10     15400 non-null  float64\n",
      " 11  V11     15400 non-null  float64\n",
      " 12  V12     15400 non-null  float64\n",
      " 13  V13     15400 non-null  float64\n",
      " 14  V14     15400 non-null  float64\n",
      " 15  V15     15400 non-null  float64\n",
      " 16  V16     15400 non-null  float64\n",
      " 17  V17     15400 non-null  float64\n",
      " 18  V18     15400 non-null  float64\n",
      " 19  V19     15400 non-null  float64\n",
      " 20  V20     15400 non-null  float64\n",
      " 21  V21     15400 non-null  float64\n",
      " 22  V22     15400 non-null  float64\n",
      " 23  V23     15400 non-null  float64\n",
      " 24  V24     15400 non-null  float64\n",
      " 25  V25     15400 non-null  float64\n",
      " 26  V26     15400 non-null  float64\n",
      " 27  V27     15400 non-null  float64\n",
      " 28  V28     15400 non-null  float64\n",
      " 29  Amount  15400 non-null  float64\n",
      " 30  Class   15400 non-null  float64\n",
      "dtypes: float64(31)\n",
      "memory usage: 3.6 MB\n"
     ]
    }
   ],
   "source": [
    "# convert class column to float \n",
    "data['Class'] = data['Class'].astype('float64')\n",
    "data.info()"
   ]
  },
  {
   "cell_type": "markdown",
   "id": "41e114f9",
   "metadata": {},
   "source": [
    "# Separate Input and Output"
   ]
  },
  {
   "cell_type": "code",
   "execution_count": 9,
   "id": "fdfc0c0c",
   "metadata": {},
   "outputs": [],
   "source": [
    "# seperate input and output values\n",
    "X_values = data.drop('Class', axis = 1)\n",
    "y_values = data['Class']"
   ]
  },
  {
   "cell_type": "code",
   "execution_count": 10,
   "id": "200eb5e5",
   "metadata": {},
   "outputs": [
    {
     "data": {
      "text/html": [
       "<div>\n",
       "<style scoped>\n",
       "    .dataframe tbody tr th:only-of-type {\n",
       "        vertical-align: middle;\n",
       "    }\n",
       "\n",
       "    .dataframe tbody tr th {\n",
       "        vertical-align: top;\n",
       "    }\n",
       "\n",
       "    .dataframe thead th {\n",
       "        text-align: right;\n",
       "    }\n",
       "</style>\n",
       "<table border=\"1\" class=\"dataframe\">\n",
       "  <thead>\n",
       "    <tr style=\"text-align: right;\">\n",
       "      <th></th>\n",
       "      <th>Time</th>\n",
       "      <th>V1</th>\n",
       "      <th>V2</th>\n",
       "      <th>V3</th>\n",
       "      <th>V4</th>\n",
       "      <th>V5</th>\n",
       "      <th>V6</th>\n",
       "      <th>V7</th>\n",
       "      <th>V8</th>\n",
       "      <th>V9</th>\n",
       "      <th>...</th>\n",
       "      <th>V20</th>\n",
       "      <th>V21</th>\n",
       "      <th>V22</th>\n",
       "      <th>V23</th>\n",
       "      <th>V24</th>\n",
       "      <th>V25</th>\n",
       "      <th>V26</th>\n",
       "      <th>V27</th>\n",
       "      <th>V28</th>\n",
       "      <th>Amount</th>\n",
       "    </tr>\n",
       "  </thead>\n",
       "  <tbody>\n",
       "    <tr>\n",
       "      <th>0</th>\n",
       "      <td>2827.0</td>\n",
       "      <td>-0.706598</td>\n",
       "      <td>0.974523</td>\n",
       "      <td>2.848002</td>\n",
       "      <td>1.624375</td>\n",
       "      <td>-0.247990</td>\n",
       "      <td>-0.084309</td>\n",
       "      <td>0.279253</td>\n",
       "      <td>0.190700</td>\n",
       "      <td>-0.511506</td>\n",
       "      <td>...</td>\n",
       "      <td>-0.178859</td>\n",
       "      <td>0.043665</td>\n",
       "      <td>0.206504</td>\n",
       "      <td>-0.097601</td>\n",
       "      <td>0.700411</td>\n",
       "      <td>-0.255074</td>\n",
       "      <td>-0.268562</td>\n",
       "      <td>0.131085</td>\n",
       "      <td>0.144414</td>\n",
       "      <td>0.0</td>\n",
       "    </tr>\n",
       "    <tr>\n",
       "      <th>1</th>\n",
       "      <td>4628.0</td>\n",
       "      <td>-0.839150</td>\n",
       "      <td>-0.058305</td>\n",
       "      <td>0.976245</td>\n",
       "      <td>0.679075</td>\n",
       "      <td>1.633833</td>\n",
       "      <td>-0.349848</td>\n",
       "      <td>-0.139845</td>\n",
       "      <td>0.058743</td>\n",
       "      <td>0.687350</td>\n",
       "      <td>...</td>\n",
       "      <td>0.287608</td>\n",
       "      <td>-0.059531</td>\n",
       "      <td>-0.088113</td>\n",
       "      <td>-0.202860</td>\n",
       "      <td>-0.841774</td>\n",
       "      <td>0.029158</td>\n",
       "      <td>0.654090</td>\n",
       "      <td>0.019055</td>\n",
       "      <td>0.111575</td>\n",
       "      <td>0.0</td>\n",
       "    </tr>\n",
       "    <tr>\n",
       "      <th>2</th>\n",
       "      <td>9435.0</td>\n",
       "      <td>1.109195</td>\n",
       "      <td>0.281324</td>\n",
       "      <td>1.545027</td>\n",
       "      <td>2.725212</td>\n",
       "      <td>-0.542445</td>\n",
       "      <td>0.700936</td>\n",
       "      <td>-0.789461</td>\n",
       "      <td>0.276965</td>\n",
       "      <td>1.222948</td>\n",
       "      <td>...</td>\n",
       "      <td>-0.212773</td>\n",
       "      <td>-0.211894</td>\n",
       "      <td>-0.263569</td>\n",
       "      <td>0.009915</td>\n",
       "      <td>-0.067964</td>\n",
       "      <td>0.273979</td>\n",
       "      <td>-0.077881</td>\n",
       "      <td>0.009168</td>\n",
       "      <td>0.014901</td>\n",
       "      <td>0.0</td>\n",
       "    </tr>\n",
       "    <tr>\n",
       "      <th>3</th>\n",
       "      <td>5989.0</td>\n",
       "      <td>-0.441051</td>\n",
       "      <td>1.141001</td>\n",
       "      <td>2.901674</td>\n",
       "      <td>3.080502</td>\n",
       "      <td>-0.229397</td>\n",
       "      <td>0.930292</td>\n",
       "      <td>-0.232623</td>\n",
       "      <td>0.257068</td>\n",
       "      <td>0.599404</td>\n",
       "      <td>...</td>\n",
       "      <td>0.077805</td>\n",
       "      <td>-0.215927</td>\n",
       "      <td>-0.234396</td>\n",
       "      <td>-0.276878</td>\n",
       "      <td>-0.211537</td>\n",
       "      <td>0.017965</td>\n",
       "      <td>0.237438</td>\n",
       "      <td>0.099152</td>\n",
       "      <td>0.086541</td>\n",
       "      <td>0.0</td>\n",
       "    </tr>\n",
       "    <tr>\n",
       "      <th>4</th>\n",
       "      <td>2828.0</td>\n",
       "      <td>1.181697</td>\n",
       "      <td>-0.007908</td>\n",
       "      <td>-0.066845</td>\n",
       "      <td>1.532223</td>\n",
       "      <td>1.728832</td>\n",
       "      <td>4.409885</td>\n",
       "      <td>-1.138816</td>\n",
       "      <td>1.164645</td>\n",
       "      <td>-0.020578</td>\n",
       "      <td>...</td>\n",
       "      <td>-0.040382</td>\n",
       "      <td>-0.139920</td>\n",
       "      <td>-0.399563</td>\n",
       "      <td>0.010200</td>\n",
       "      <td>0.992235</td>\n",
       "      <td>0.457015</td>\n",
       "      <td>-0.027924</td>\n",
       "      <td>0.045273</td>\n",
       "      <td>0.028868</td>\n",
       "      <td>0.0</td>\n",
       "    </tr>\n",
       "  </tbody>\n",
       "</table>\n",
       "<p>5 rows × 30 columns</p>\n",
       "</div>"
      ],
      "text/plain": [
       "     Time        V1        V2        V3        V4        V5        V6  \\\n",
       "0  2827.0 -0.706598  0.974523  2.848002  1.624375 -0.247990 -0.084309   \n",
       "1  4628.0 -0.839150 -0.058305  0.976245  0.679075  1.633833 -0.349848   \n",
       "2  9435.0  1.109195  0.281324  1.545027  2.725212 -0.542445  0.700936   \n",
       "3  5989.0 -0.441051  1.141001  2.901674  3.080502 -0.229397  0.930292   \n",
       "4  2828.0  1.181697 -0.007908 -0.066845  1.532223  1.728832  4.409885   \n",
       "\n",
       "         V7        V8        V9  ...       V20       V21       V22       V23  \\\n",
       "0  0.279253  0.190700 -0.511506  ... -0.178859  0.043665  0.206504 -0.097601   \n",
       "1 -0.139845  0.058743  0.687350  ...  0.287608 -0.059531 -0.088113 -0.202860   \n",
       "2 -0.789461  0.276965  1.222948  ... -0.212773 -0.211894 -0.263569  0.009915   \n",
       "3 -0.232623  0.257068  0.599404  ...  0.077805 -0.215927 -0.234396 -0.276878   \n",
       "4 -1.138816  1.164645 -0.020578  ... -0.040382 -0.139920 -0.399563  0.010200   \n",
       "\n",
       "        V24       V25       V26       V27       V28  Amount  \n",
       "0  0.700411 -0.255074 -0.268562  0.131085  0.144414     0.0  \n",
       "1 -0.841774  0.029158  0.654090  0.019055  0.111575     0.0  \n",
       "2 -0.067964  0.273979 -0.077881  0.009168  0.014901     0.0  \n",
       "3 -0.211537  0.017965  0.237438  0.099152  0.086541     0.0  \n",
       "4  0.992235  0.457015 -0.027924  0.045273  0.028868     0.0  \n",
       "\n",
       "[5 rows x 30 columns]"
      ]
     },
     "execution_count": 10,
     "metadata": {},
     "output_type": "execute_result"
    }
   ],
   "source": [
    "# input values\n",
    "X_values.head()"
   ]
  },
  {
   "cell_type": "code",
   "execution_count": 11,
   "id": "002e67e8",
   "metadata": {},
   "outputs": [
    {
     "data": {
      "text/plain": [
       "0    0.0\n",
       "1    0.0\n",
       "2    0.0\n",
       "3    0.0\n",
       "4    0.0\n",
       "Name: Class, dtype: float64"
      ]
     },
     "execution_count": 11,
     "metadata": {},
     "output_type": "execute_result"
    }
   ],
   "source": [
    "# output values\n",
    "y_values[:5]"
   ]
  },
  {
   "cell_type": "markdown",
   "id": "944ed83a",
   "metadata": {},
   "source": [
    "# Train Test Split"
   ]
  },
  {
   "cell_type": "code",
   "execution_count": 12,
   "id": "d3ae83b5",
   "metadata": {},
   "outputs": [
    {
     "data": {
      "text/plain": [
       "((12320, 30), (3080, 30))"
      ]
     },
     "execution_count": 12,
     "metadata": {},
     "output_type": "execute_result"
    }
   ],
   "source": [
    "# split data into train and test set\n",
    "X_train, X_test, y_train, y_test = train_test_split(X_values, y_values, test_size = 0.2, random_state = 0, stratify = y_values)\n",
    "\n",
    "# check shape of data\n",
    "X_train.shape, X_test.shape"
   ]
  },
  {
   "cell_type": "markdown",
   "id": "8b070d38",
   "metadata": {},
   "source": [
    "## SMOTE oversampling"
   ]
  },
  {
   "cell_type": "code",
   "execution_count": 13,
   "id": "3ff109c7",
   "metadata": {},
   "outputs": [],
   "source": [
    "# apply smote oversampling\n",
    "oversample = SMOTE()\n",
    "X_train, y_train = oversample.fit_resample(X_train, y_train)"
   ]
  },
  {
   "cell_type": "code",
   "execution_count": 14,
   "id": "d8188408",
   "metadata": {},
   "outputs": [
    {
     "name": "stdout",
     "output_type": "stream",
     "text": [
      "Counter({0.0: 12000, 1.0: 12000})\n"
     ]
    }
   ],
   "source": [
    "# summarize the new class distribution\n",
    "from collections import Counter\n",
    "counter = Counter(y_train)\n",
    "print(counter)"
   ]
  },
  {
   "cell_type": "markdown",
   "id": "b72842d1",
   "metadata": {},
   "source": [
    "# Scaling Data "
   ]
  },
  {
   "cell_type": "code",
   "execution_count": 15,
   "id": "60b04b4c",
   "metadata": {},
   "outputs": [],
   "source": [
    "# create object of standard scaler\n",
    "scaler = StandardScaler()\n",
    "X_train = scaler.fit_transform(X_train)\n",
    "X_test = scaler.transform(X_test)\n",
    "\n",
    "# convert data to numpy arrays\n",
    "y_train = y_train.to_numpy()\n",
    "y_test = y_test.to_numpy()\n",
    "\n",
    "# save the scaler for future use\n",
    "with open('data/StandardScaler.pkl','wb') as f:\n",
    "    pickle.dump(scaler, f)"
   ]
  },
  {
   "cell_type": "markdown",
   "id": "51be8fd9",
   "metadata": {},
   "source": [
    "# Convert Data to 3-D for Neural Network"
   ]
  },
  {
   "cell_type": "code",
   "execution_count": 16,
   "id": "c0d85bab",
   "metadata": {},
   "outputs": [],
   "source": [
    "# convert data to 3-D\n",
    "X_train = X_train.reshape(X_train.shape[0], X_train.shape[1], 1)\n",
    "X_test = X_test.reshape(X_test.shape[0], X_test.shape[1], 1)"
   ]
  },
  {
   "cell_type": "code",
   "execution_count": 17,
   "id": "284c59e7",
   "metadata": {},
   "outputs": [
    {
     "data": {
      "text/plain": [
       "((24000, 30, 1), (3080, 30, 1))"
      ]
     },
     "execution_count": 17,
     "metadata": {},
     "output_type": "execute_result"
    }
   ],
   "source": [
    "# check shape of data \n",
    "X_train.shape, X_test.shape"
   ]
  },
  {
   "cell_type": "markdown",
   "id": "cf00e086",
   "metadata": {},
   "source": [
    "# CNN Model for Classification"
   ]
  },
  {
   "cell_type": "code",
   "execution_count": 18,
   "id": "e8e8ae67",
   "metadata": {},
   "outputs": [
    {
     "name": "stdout",
     "output_type": "stream",
     "text": [
      "Model: \"sequential\"\n",
      "_________________________________________________________________\n",
      " Layer (type)                Output Shape              Param #   \n",
      "=================================================================\n",
      " conv1d (Conv1D)             (None, 29, 32)            96        \n",
      "                                                                 \n",
      " batch_normalization (BatchN  (None, 29, 32)           128       \n",
      " ormalization)                                                   \n",
      "                                                                 \n",
      " dropout (Dropout)           (None, 29, 32)            0         \n",
      "                                                                 \n",
      " conv1d_1 (Conv1D)           (None, 28, 64)            4160      \n",
      "                                                                 \n",
      " batch_normalization_1 (Batc  (None, 28, 64)           256       \n",
      " hNormalization)                                                 \n",
      "                                                                 \n",
      " dropout_1 (Dropout)         (None, 28, 64)            0         \n",
      "                                                                 \n",
      " flatten (Flatten)           (None, 1792)              0         \n",
      "                                                                 \n",
      " dense (Dense)               (None, 64)                114752    \n",
      "                                                                 \n",
      " dropout_2 (Dropout)         (None, 64)                0         \n",
      "                                                                 \n",
      " dense_1 (Dense)             (None, 1)                 65        \n",
      "                                                                 \n",
      "=================================================================\n",
      "Total params: 119,457\n",
      "Trainable params: 119,265\n",
      "Non-trainable params: 192\n",
      "_________________________________________________________________\n"
     ]
    }
   ],
   "source": [
    "# define model architecture\n",
    "epochs = 10\n",
    "model = Sequential()\n",
    "\n",
    "model.add(Conv1D(32, 2, activation='relu', input_shape = X_train[0].shape))\n",
    "model.add(BatchNormalization())\n",
    "model.add(Dropout(0.2))\n",
    "\n",
    "model.add(Conv1D(64, 2, activation='relu'))\n",
    "model.add(BatchNormalization())\n",
    "model.add(Dropout(0.5))\n",
    "\n",
    "model.add(Flatten())\n",
    "model.add(Dense(64, activation='relu'))\n",
    "model.add(Dropout(0.5))\n",
    "\n",
    "model.add(Dense(1, activation='sigmoid'))\n",
    "model.summary()"
   ]
  },
  {
   "cell_type": "code",
   "execution_count": 19,
   "id": "90bf7167",
   "metadata": {},
   "outputs": [
    {
     "name": "stderr",
     "output_type": "stream",
     "text": [
      "WARNING:absl:`lr` is deprecated in Keras optimizer, please use `learning_rate` or use the legacy optimizer, e.g.,tf.keras.optimizers.legacy.Adam.\n"
     ]
    },
    {
     "name": "stdout",
     "output_type": "stream",
     "text": [
      "Epoch 1/10\n",
      "750/750 [==============================] - 9s 9ms/step - loss: 0.0575 - accuracy: 0.9825 - val_loss: 0.0126 - val_accuracy: 0.9971\n",
      "Epoch 2/10\n",
      "750/750 [==============================] - 8s 10ms/step - loss: 0.0209 - accuracy: 0.9931 - val_loss: 0.0077 - val_accuracy: 0.9977\n",
      "Epoch 3/10\n",
      "750/750 [==============================] - 7s 9ms/step - loss: 0.0150 - accuracy: 0.9951 - val_loss: 0.0053 - val_accuracy: 0.9990\n",
      "Epoch 4/10\n",
      "750/750 [==============================] - 6s 9ms/step - loss: 0.0116 - accuracy: 0.9962 - val_loss: 0.0074 - val_accuracy: 0.9984\n",
      "Epoch 5/10\n",
      "750/750 [==============================] - 6s 8ms/step - loss: 0.0126 - accuracy: 0.9954 - val_loss: 0.0155 - val_accuracy: 0.9971\n",
      "Epoch 6/10\n",
      "750/750 [==============================] - 6s 8ms/step - loss: 0.0101 - accuracy: 0.9965 - val_loss: 0.0062 - val_accuracy: 0.9984\n",
      "Epoch 7/10\n",
      "750/750 [==============================] - 6s 8ms/step - loss: 0.0099 - accuracy: 0.9973 - val_loss: 0.0044 - val_accuracy: 0.9987\n",
      "Epoch 8/10\n",
      "750/750 [==============================] - 6s 9ms/step - loss: 0.0096 - accuracy: 0.9966 - val_loss: 0.0065 - val_accuracy: 0.9984\n",
      "Epoch 9/10\n",
      "750/750 [==============================] - 7s 9ms/step - loss: 0.0074 - accuracy: 0.9973 - val_loss: 0.0060 - val_accuracy: 0.9994\n",
      "Epoch 10/10\n",
      "750/750 [==============================] - 6s 8ms/step - loss: 0.0077 - accuracy: 0.9971 - val_loss: 0.0085 - val_accuracy: 0.9984\n"
     ]
    }
   ],
   "source": [
    "# train model\n",
    "model.compile(optimizer=Adam(lr=0.0001), loss = 'binary_crossentropy', metrics=['accuracy'])\n",
    "history = model.fit(X_train, y_train, epochs=epochs, validation_data=(X_test, y_test), verbose=1)"
   ]
  },
  {
   "cell_type": "code",
   "execution_count": 20,
   "id": "8edc1330",
   "metadata": {},
   "outputs": [],
   "source": [
    "# save model architecture and weights\n",
    "model.save(\"data/fraud_detection_model.h5\")"
   ]
  },
  {
   "cell_type": "code",
   "execution_count": 21,
   "id": "e77f91eb",
   "metadata": {},
   "outputs": [
    {
     "data": {
      "image/png": "[encoded data removed]",
      "text/plain": [
       "<Figure size 640x480 with 1 Axes>"
      ]
     },
     "metadata": {},
     "output_type": "display_data"
    },
    {
     "data": {
      "image/png": "[encoded data removed]",
      "text/plain": [
       "<Figure size 640x480 with 1 Axes>"
      ]
     },
     "metadata": {},
     "output_type": "display_data"
    }
   ],
   "source": [
    "# compare training and validation accuracy\n",
    "def plot_learningCurve(history, epoch):\n",
    "    # Plot training & validation accuracy values\n",
    "    epoch_range = range(1, epoch+1)\n",
    "    plt.plot(epoch_range, history.history['accuracy'])\n",
    "    plt.plot(epoch_range, history.history['val_accuracy'])\n",
    "    plt.title('Model accuracy')\n",
    "    plt.ylabel('Accuracy')\n",
    "    plt.xlabel('Epoch')\n",
    "    plt.legend(['Train', 'Val'], loc='upper left')\n",
    "    plt.show()\n",
    "\n",
    "    # Plot training & validation loss values\n",
    "    plt.plot(epoch_range, history.history['loss'])\n",
    "    plt.plot(epoch_range, history.history['val_loss'])\n",
    "    plt.title('Model loss')\n",
    "    plt.ylabel('Loss')\n",
    "    plt.xlabel('Epoch')\n",
    "    plt.legend(['Train', 'Val'], loc='upper left')\n",
    "    plt.show()\n",
    "    \n",
    "# plot accuracy comparison\n",
    "plot_learningCurve(history, epochs)"
   ]
  },
  {
   "cell_type": "code",
   "execution_count": null,
   "id": "588c2e82",
   "metadata": {},
   "outputs": [],
   "source": []
  }
 ],
 "metadata": {
  "kernelspec": {
   "display_name": "Python 3 (ipykernel)",
   "language": "python",
   "name": "python3"
  },
  "language_info": {
   "codemirror_mode": {
    "name": "ipython",
    "version": 3
   },
   "file_extension": ".py",
   "mimetype": "text/x-python",
   "name": "python",
   "nbconvert_exporter": "python",
   "pygments_lexer": "ipython3",
   "version": "3.11.2"
  }
 },
 "nbformat": 4,
 "nbformat_minor": 5
}
